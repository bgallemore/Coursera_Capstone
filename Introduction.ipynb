{
    "cells": [
        {
            "metadata": {
                "collapsed": true
            },
            "cell_type": "markdown",
            "source": "# Chicago Introduction"
        },
        {
            "metadata": {},
            "cell_type": "markdown",
            "source": "Chicago, on Lake Michigan in Illinois, is among the largest cities in the U.S. Famed for its bold architecture, it has a skyline punctuated by skyscrapers such as the iconic John Hancock Center, 1,451-ft. Willis Tower (formerly the Sears Tower) and the neo-Gothic Tribune Tower. The city is also renowned for its museums, including the Art Institute of Chicago with its noted Impressionist and Post-Impressionist works. It is multicultural. It provides lot of business oppourtunities and business friendly environment. It has attracted many different players into the market. It is a global hub of business and commerce. The city is a major center for banking and finance, retailing, world trade, transportation, tourism, real estate, new media, traditional media, advertising, legal services, accountancy, insurance, theater, fashion, and the arts in the United States. This also means that the market is highly competitive. As it is highly developed city so cost of doing business is also one of the highest. Thus, any new business venture or expansion needs to be analysed carefully. The insights derived from analysis will give good understanding of the business environment which help in strategically targeting the market. This will help in reduction of risk and to support that the Return on Investment will be reasonable."
        },
        {
            "metadata": {},
            "cell_type": "markdown",
            "source": "# Business Problem"
        },
        {
            "metadata": {},
            "cell_type": "markdown",
            "source": "The city of Chicago is famous for its excelllent cuisine. It's food culture includes an array of international cuisines influenced by the city's immigrant history.\n\nSushi restaurants have become so popular in the United States now it seems that there is one on every corner, not only in major cities but also in smaller cities. Starting a sushi restaurant can be a great business opportunity, but you need to distinguish yourself from others to enjoy long-term success."
        },
        {
            "metadata": {},
            "cell_type": "markdown",
            "source": "# Location Selection"
        },
        {
            "metadata": {},
            "cell_type": "markdown",
            "source": "Regions will be selected based on number of Sushi restaurants in the area, highest foot traffic locations with large shopping centers and other local points of interest, and total number of available casual dining restaurants."
        },
        {
            "metadata": {},
            "cell_type": "markdown",
            "source": "# Target Location"
        },
        {
            "metadata": {},
            "cell_type": "markdown",
            "source": "Given the high profile of the location and large foot traffic I will focus on Streeterville, Gold Coast, River North, and Old Town areas during my analysis. The objective is to locate and recommend which region will be best choice to start a restaurant and ratationale. This report would interest anyone who wants to start a similar establishment in Chicago."
        }
    ],
    "metadata": {
        "kernelspec": {
            "name": "python3",
            "display_name": "Python 3.7",
            "language": "python"
        },
        "language_info": {
            "name": "python",
            "version": "3.7.9",
            "mimetype": "text/x-python",
            "codemirror_mode": {
                "name": "ipython",
                "version": 3
            },
            "pygments_lexer": "ipython3",
            "nbconvert_exporter": "python",
            "file_extension": ".py"
        }
    },
    "nbformat": 4,
    "nbformat_minor": 1
}