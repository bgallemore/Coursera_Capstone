{
    "cells": [
        {
            "metadata": {
                "collapsed": true
            },
            "cell_type": "markdown",
            "source": "# New York City Introduction"
        },
        {
            "metadata": {},
            "cell_type": "markdown",
            "source": "New York City is the most populous city in the United States. With an estimated 2019 population of 8,336,817 distributed over about 302.6 square miles (784 km^2), New York City is also the most densely populated major city in the United States. It comprises 5 boroughs sitting where the Hudson River meets the Atlantic Ocean. At its core is Manhattan, a densely populated borough that\u2019s among the world\u2019s major commercial, financial and cultural centers. Its iconic sites include skyscrapers such as the Empire State Building and sprawling Central Park. Broadway theater is staged in neon-lit Times Square. It is multicultural and provides numerous business oppourtunities. It is a global hub of business and commerce. The city is a major center for a multitude of business, trade, media, and the arts. This also means that the market is highly competitive. As it is highly developed city the cost of doing business is also great. Thus, any new business venture or expansion needs to be analyzed carefully. Insights derived from analysis will improve understanding of the business environment and risks which will aid in strategically targeting the market. This will help reduce risk and ensure return on investment will be reasonable."
        },
        {
            "metadata": {},
            "cell_type": "markdown",
            "source": "# Business Problem"
        },
        {
            "metadata": {},
            "cell_type": "markdown",
            "source": "New York City is famous for its excelllent cuisine. It's food culture includes an array of international cuisines influenced by the city's immigrant history. Sushi restaurants are popular in the United States. However, given the risk of pursuing a food industry restaurant care must be taken. Interested parties in this project would be any who would be pursuing opening a Japanese or sushi restuarant in New York City."
        },
        {
            "metadata": {},
            "cell_type": "markdown",
            "source": "# Location Selection"
        },
        {
            "metadata": {},
            "cell_type": "markdown",
            "source": "Regions will be selected based on number of Sushi restaurants in the area, demographics of the region, and average rating of sushi restaurants in the area."
        },
        {
            "metadata": {},
            "cell_type": "markdown",
            "source": "# Target Location"
        },
        {
            "metadata": {},
            "cell_type": "markdown",
            "source": "The Bronx followed by Manhattan and Queens are the most ethnically diverse of the boroughs. Queens and Brooklyn are the most populous. Given diversity and population density Queens is a candidate. "
        }
    ],
    "metadata": {
        "kernelspec": {
            "name": "python3",
            "display_name": "Python 3.7",
            "language": "python"
        },
        "language_info": {
            "name": "python",
            "version": "3.7.9",
            "mimetype": "text/x-python",
            "codemirror_mode": {
                "name": "ipython",
                "version": 3
            },
            "pygments_lexer": "ipython3",
            "nbconvert_exporter": "python",
            "file_extension": ".py"
        }
    },
    "nbformat": 4,
    "nbformat_minor": 1
}