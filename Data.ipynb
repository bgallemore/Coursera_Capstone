{
    "cells": [
        {
            "metadata": {},
            "cell_type": "markdown",
            "source": "# Data"
        },
        {
            "metadata": {},
            "cell_type": "markdown",
            "source": "### Data Required"
        },
        {
            "metadata": {},
            "cell_type": "markdown",
            "source": "1. List of community areas in Chicago\n2. Latitude and longitude coordinates of community areas\n3. Venue data focused on related to Japanese and sushi restaurants"
        },
        {
            "metadata": {},
            "cell_type": "markdown",
            "source": "### Data Sources and Extraction Methods"
        },
        {
            "metadata": {
                "collapsed": true
            },
            "cell_type": "markdown",
            "source": "To determine the best location(s) for the prospective sushi bar the resources from OpenDataSoft at https://public.opendatasoft.com/explore/dataset/us-zip-code-latitude-and-longitude/export/?refine.state=IL&q=Chicagowhich contains the list of community areas of Chicago, West Chicago, Chicago Heights, and North Chicago. Data obtained will be coordinates for community areas. Further data will be obtained from the Chicago Data Portal at https://data.cityofchicago.org/Public-Safety/Crimes-Map/dfnk-7re6 to evaluate for crime data by coordinates. Python requests and beautifulsoup packages will be used to assist with web scraping techniques. to extract data from wikipedia pages. Geographical coordinates of community areas will then be obtained using the Python Geocoder package.\n\nThe second resource used will be Foursquare API to obtain venue data for neighbourhoods. The search will focus on Japanese and sushi restaurants to aid in solving the business problem."
        }
    ],
    "metadata": {
        "kernelspec": {
            "name": "python3",
            "display_name": "Python 3.7",
            "language": "python"
        },
        "language_info": {
            "name": "python",
            "version": "3.7.9",
            "mimetype": "text/x-python",
            "codemirror_mode": {
                "name": "ipython",
                "version": 3
            },
            "pygments_lexer": "ipython3",
            "nbconvert_exporter": "python",
            "file_extension": ".py"
        }
    },
    "nbformat": 4,
    "nbformat_minor": 1
}